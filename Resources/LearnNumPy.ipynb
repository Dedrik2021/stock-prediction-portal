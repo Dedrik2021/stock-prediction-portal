{
 "cells": [
  {
   "cell_type": "code",
   "execution_count": 1,
   "id": "f6c68221-455f-46c2-a091-79fe04115e75",
   "metadata": {},
   "outputs": [],
   "source": [
    "import numpy as np"
   ]
  },
  {
   "cell_type": "code",
   "execution_count": 2,
   "id": "a01837ff-336a-4332-aea7-f3dfcfbaa34c",
   "metadata": {},
   "outputs": [
    {
     "data": {
      "text/plain": [
       "'2.3.1'"
      ]
     },
     "execution_count": 2,
     "metadata": {},
     "output_type": "execute_result"
    }
   ],
   "source": [
    "np.__version__"
   ]
  },
  {
   "cell_type": "markdown",
   "id": "312d37f2-c110-4372-83e3-7f5a206c0b26",
   "metadata": {},
   "source": [
    "## Create and Read"
   ]
  },
  {
   "cell_type": "markdown",
   "id": "7797fb9f-7261-4e63-bbcd-d38ebea1f179",
   "metadata": {},
   "source": [
    "#### 1D Array"
   ]
  },
  {
   "cell_type": "code",
   "execution_count": 4,
   "id": "4196714a-d342-4db3-ad95-651ef0b1f7e2",
   "metadata": {},
   "outputs": [
    {
     "data": {
      "text/plain": [
       "array([1, 2, 3, 4, 5, 6])"
      ]
     },
     "execution_count": 4,
     "metadata": {},
     "output_type": "execute_result"
    }
   ],
   "source": [
    "arr1 = np.array([1, 2, 3, 4, 5, 6])\n",
    "arr1"
   ]
  },
  {
   "cell_type": "code",
   "execution_count": 5,
   "id": "ecba88e1-5d83-4f33-a2d2-56e79bf0a121",
   "metadata": {},
   "outputs": [
    {
     "data": {
      "text/plain": [
       "numpy.ndarray"
      ]
     },
     "execution_count": 5,
     "metadata": {},
     "output_type": "execute_result"
    }
   ],
   "source": [
    "type(arr1)"
   ]
  },
  {
   "cell_type": "code",
   "execution_count": 6,
   "id": "ac80bb07-18c1-4a4d-a3bf-28c23cc91d5e",
   "metadata": {},
   "outputs": [
    {
     "data": {
      "text/plain": [
       "(6,)"
      ]
     },
     "execution_count": 6,
     "metadata": {},
     "output_type": "execute_result"
    }
   ],
   "source": [
    "arr1.shape"
   ]
  },
  {
   "cell_type": "code",
   "execution_count": 7,
   "id": "321094a5-6cb1-4714-a693-7b3866d938e0",
   "metadata": {},
   "outputs": [
    {
     "data": {
      "text/plain": [
       "dtype('int64')"
      ]
     },
     "execution_count": 7,
     "metadata": {},
     "output_type": "execute_result"
    }
   ],
   "source": [
    "arr1.dtype"
   ]
  },
  {
   "cell_type": "code",
   "execution_count": 8,
   "id": "82ccd6ca-1c10-44f4-85d5-421e1a38872a",
   "metadata": {},
   "outputs": [
    {
     "data": {
      "text/plain": [
       "1"
      ]
     },
     "execution_count": 8,
     "metadata": {},
     "output_type": "execute_result"
    }
   ],
   "source": [
    "arr1.ndim"
   ]
  },
  {
   "cell_type": "code",
   "execution_count": 9,
   "id": "b0f894f3-0370-4752-a848-88d1204a7e6a",
   "metadata": {},
   "outputs": [
    {
     "data": {
      "text/plain": [
       "6"
      ]
     },
     "execution_count": 9,
     "metadata": {},
     "output_type": "execute_result"
    }
   ],
   "source": [
    "arr1.size"
   ]
  },
  {
   "cell_type": "markdown",
   "id": "918a36e4-5228-48bc-9cf3-0967701495fd",
   "metadata": {},
   "source": [
    "#### 2D Array"
   ]
  },
  {
   "cell_type": "code",
   "execution_count": 10,
   "id": "a26640a5-0c77-46ac-8b3e-0201f37a449b",
   "metadata": {},
   "outputs": [
    {
     "data": {
      "text/plain": [
       "array([[1, 2, 3],\n",
       "       [6, 5, 4]])"
      ]
     },
     "execution_count": 10,
     "metadata": {},
     "output_type": "execute_result"
    }
   ],
   "source": [
    "arr2 = np.array([[1, 2, 3], [6, 5, 4]])\n",
    "arr2"
   ]
  },
  {
   "cell_type": "code",
   "execution_count": 11,
   "id": "907b2eb0-a9ac-4fcf-aa96-12c98894e181",
   "metadata": {},
   "outputs": [
    {
     "data": {
      "text/plain": [
       "2"
      ]
     },
     "execution_count": 11,
     "metadata": {},
     "output_type": "execute_result"
    }
   ],
   "source": [
    "arr2.ndim"
   ]
  },
  {
   "cell_type": "code",
   "execution_count": 12,
   "id": "ea26af36-3570-41e8-88a5-f547870ce1d6",
   "metadata": {},
   "outputs": [
    {
     "data": {
      "text/plain": [
       "(2, 3)"
      ]
     },
     "execution_count": 12,
     "metadata": {},
     "output_type": "execute_result"
    }
   ],
   "source": [
    "arr2.shape"
   ]
  },
  {
   "cell_type": "code",
   "execution_count": 13,
   "id": "d1962af9-de77-4252-bb40-b1c0d0a4f0a8",
   "metadata": {},
   "outputs": [
    {
     "data": {
      "text/plain": [
       "dtype('int64')"
      ]
     },
     "execution_count": 13,
     "metadata": {},
     "output_type": "execute_result"
    }
   ],
   "source": [
    "arr2.dtype"
   ]
  },
  {
   "cell_type": "code",
   "execution_count": 14,
   "id": "459a5e4a-cafb-4db5-905b-96a1681043cc",
   "metadata": {},
   "outputs": [
    {
     "data": {
      "text/plain": [
       "6"
      ]
     },
     "execution_count": 14,
     "metadata": {},
     "output_type": "execute_result"
    }
   ],
   "source": [
    "arr2.size"
   ]
  },
  {
   "cell_type": "markdown",
   "id": "9fa8a193-bb61-4f12-a8be-a32f93d08738",
   "metadata": {},
   "source": [
    "#### 3D Array"
   ]
  },
  {
   "cell_type": "code",
   "execution_count": 15,
   "id": "c90f233b-a393-4843-8ea5-901593825487",
   "metadata": {},
   "outputs": [
    {
     "data": {
      "text/plain": [
       "array([[[1, 2, 3],\n",
       "        [6, 5, 4]],\n",
       "\n",
       "       [[1, 2, 3],\n",
       "        [6, 5, 4]],\n",
       "\n",
       "       [[1, 2, 3],\n",
       "        [6, 5, 4]]])"
      ]
     },
     "execution_count": 15,
     "metadata": {},
     "output_type": "execute_result"
    }
   ],
   "source": [
    "arr3 = np.array([[[1, 2, 3], [6, 5, 4]], [[1, 2, 3], [6, 5, 4]], [[1, 2, 3], [6, 5, 4]]])\n",
    "arr3"
   ]
  },
  {
   "cell_type": "code",
   "execution_count": 16,
   "id": "346d7e87-ceb5-4ad1-9806-4626b4797827",
   "metadata": {},
   "outputs": [
    {
     "data": {
      "text/plain": [
       "3"
      ]
     },
     "execution_count": 16,
     "metadata": {},
     "output_type": "execute_result"
    }
   ],
   "source": [
    "arr3.ndim"
   ]
  },
  {
   "cell_type": "code",
   "execution_count": 17,
   "id": "204b6f72-f28d-4b44-9d58-035d2f078e03",
   "metadata": {},
   "outputs": [
    {
     "data": {
      "text/plain": [
       "(3, 2, 3)"
      ]
     },
     "execution_count": 17,
     "metadata": {},
     "output_type": "execute_result"
    }
   ],
   "source": [
    "arr3.shape"
   ]
  },
  {
   "cell_type": "code",
   "execution_count": 18,
   "id": "9b88b815-175f-492e-9727-19b142f9f933",
   "metadata": {},
   "outputs": [
    {
     "data": {
      "text/plain": [
       "18"
      ]
     },
     "execution_count": 18,
     "metadata": {},
     "output_type": "execute_result"
    }
   ],
   "source": [
    "arr3.size"
   ]
  },
  {
   "cell_type": "markdown",
   "id": "3ba55482-d86f-47f9-9ae1-7d5530f0c26e",
   "metadata": {},
   "source": [
    "### Create Random Array"
   ]
  },
  {
   "cell_type": "code",
   "execution_count": 19,
   "id": "695cf5ad-6649-45ca-b8ac-281a86be04e2",
   "metadata": {},
   "outputs": [
    {
     "data": {
      "text/plain": [
       "array([[[0.33003014, 0.0699719 , 0.23984151],\n",
       "        [0.34675019, 0.01320494, 0.40221799]],\n",
       "\n",
       "       [[0.42812792, 0.96756211, 0.93967423],\n",
       "        [0.02450604, 0.56231756, 0.99638821]],\n",
       "\n",
       "       [[0.8768972 , 0.32352854, 0.27918235],\n",
       "        [0.66213144, 0.26567467, 0.53098705]]])"
      ]
     },
     "execution_count": 19,
     "metadata": {},
     "output_type": "execute_result"
    }
   ],
   "source": [
    "randomArr = np.random.rand(3, 2, 3)\n",
    "randomArr"
   ]
  },
  {
   "cell_type": "code",
   "execution_count": 20,
   "id": "c98856a2-3879-412a-a433-38280d4b78e5",
   "metadata": {},
   "outputs": [
    {
     "data": {
      "text/plain": [
       "dtype('float64')"
      ]
     },
     "execution_count": 20,
     "metadata": {},
     "output_type": "execute_result"
    }
   ],
   "source": [
    "randomArr.dtype"
   ]
  },
  {
   "cell_type": "code",
   "execution_count": 21,
   "id": "2d02fb0f-2e79-4a66-9f9a-13cb7c5a5092",
   "metadata": {},
   "outputs": [
    {
     "data": {
      "text/plain": [
       "array([[[0., 0., 0.],\n",
       "        [0., 0., 0.]],\n",
       "\n",
       "       [[0., 0., 0.],\n",
       "        [0., 0., 0.]],\n",
       "\n",
       "       [[0., 0., 0.],\n",
       "        [0., 0., 0.]]])"
      ]
     },
     "execution_count": 21,
     "metadata": {},
     "output_type": "execute_result"
    }
   ],
   "source": [
    "zeroes = np.zeros((3, 2, 3))\n",
    "zeroes"
   ]
  },
  {
   "cell_type": "code",
   "execution_count": 22,
   "id": "c97043cb-cc3b-4940-9745-1e7edf158e5a",
   "metadata": {},
   "outputs": [
    {
     "data": {
      "text/plain": [
       "3"
      ]
     },
     "execution_count": 22,
     "metadata": {},
     "output_type": "execute_result"
    }
   ],
   "source": [
    "zeroes.ndim"
   ]
  },
  {
   "cell_type": "code",
   "execution_count": 23,
   "id": "c74d3d24-f17f-42ca-b16f-c3e59d68af23",
   "metadata": {},
   "outputs": [
    {
     "data": {
      "text/plain": [
       "array([[[8, 8, 8],\n",
       "        [8, 8, 8]],\n",
       "\n",
       "       [[8, 8, 8],\n",
       "        [8, 8, 8]],\n",
       "\n",
       "       [[8, 8, 8],\n",
       "        [8, 8, 8]]])"
      ]
     },
     "execution_count": 23,
     "metadata": {},
     "output_type": "execute_result"
    }
   ],
   "source": [
    "full = np.full((3, 2, 3), 8)\n",
    "full"
   ]
  },
  {
   "cell_type": "code",
   "execution_count": 24,
   "id": "985349da-66d6-418d-b075-0d3b344d0923",
   "metadata": {},
   "outputs": [
    {
     "data": {
      "text/plain": [
       "array([[[1., 1., 1.],\n",
       "        [1., 1., 1.]],\n",
       "\n",
       "       [[1., 1., 1.],\n",
       "        [1., 1., 1.]],\n",
       "\n",
       "       [[1., 1., 1.],\n",
       "        [1., 1., 1.]]])"
      ]
     },
     "execution_count": 24,
     "metadata": {},
     "output_type": "execute_result"
    }
   ],
   "source": [
    "ones = np.ones((3, 2, 3))\n",
    "ones"
   ]
  },
  {
   "cell_type": "code",
   "execution_count": 25,
   "id": "12bbdf34-1814-4cf5-9927-a1168c129b9b",
   "metadata": {},
   "outputs": [
    {
     "data": {
      "text/plain": [
       "array([[[1, 2, 3],\n",
       "        [6, 5, 4]],\n",
       "\n",
       "       [[1, 2, 3],\n",
       "        [6, 5, 4]],\n",
       "\n",
       "       [[1, 2, 3],\n",
       "        [6, 5, 4]]])"
      ]
     },
     "execution_count": 25,
     "metadata": {},
     "output_type": "execute_result"
    }
   ],
   "source": [
    "arr3"
   ]
  },
  {
   "cell_type": "code",
   "execution_count": 31,
   "id": "3cea7125-d438-4ee4-94f6-0f65a3517c4e",
   "metadata": {},
   "outputs": [
    {
     "data": {
      "text/plain": [
       "array([[1, 2, 3],\n",
       "       [6, 5, 4]])"
      ]
     },
     "execution_count": 31,
     "metadata": {},
     "output_type": "execute_result"
    }
   ],
   "source": [
    "arr3[0]"
   ]
  },
  {
   "cell_type": "code",
   "execution_count": 27,
   "id": "750b0eaa-14af-4458-ab28-243223a061c4",
   "metadata": {},
   "outputs": [
    {
     "data": {
      "text/plain": [
       "array([[[1, 2, 3],\n",
       "        [6, 5, 4]],\n",
       "\n",
       "       [[1, 2, 3],\n",
       "        [6, 5, 4]]])"
      ]
     },
     "execution_count": 27,
     "metadata": {},
     "output_type": "execute_result"
    }
   ],
   "source": [
    "arr3[0:2]"
   ]
  },
  {
   "cell_type": "code",
   "execution_count": 32,
   "id": "a5c3705b-1d90-4f96-8aa8-e07fe4497a15",
   "metadata": {},
   "outputs": [
    {
     "data": {
      "text/plain": [
       "array([[1, 2, 3],\n",
       "       [6, 5, 4]])"
      ]
     },
     "execution_count": 32,
     "metadata": {},
     "output_type": "execute_result"
    }
   ],
   "source": [
    "arr3[-1]"
   ]
  },
  {
   "cell_type": "code",
   "execution_count": 33,
   "id": "fcbf1386-42ff-455e-88dc-a1bef8e3d987",
   "metadata": {},
   "outputs": [
    {
     "data": {
      "text/plain": [
       "np.int64(2)"
      ]
     },
     "execution_count": 33,
     "metadata": {},
     "output_type": "execute_result"
    }
   ],
   "source": [
    "arr3[1][0][1]"
   ]
  },
  {
   "cell_type": "code",
   "execution_count": 36,
   "id": "1dac32c5-b643-4326-b33d-ec6a92acdbee",
   "metadata": {},
   "outputs": [
    {
     "data": {
      "text/plain": [
       "np.int64(2)"
      ]
     },
     "execution_count": 36,
     "metadata": {},
     "output_type": "execute_result"
    }
   ],
   "source": [
    "arr3[1, 0, 1]"
   ]
  },
  {
   "cell_type": "markdown",
   "id": "6e7c6321-f69d-4180-b480-798f2cf9a183",
   "metadata": {},
   "source": [
    "### Update and Delete"
   ]
  },
  {
   "cell_type": "code",
   "execution_count": 37,
   "id": "926f53eb-058a-4720-b25a-f300cfc0b4f3",
   "metadata": {},
   "outputs": [],
   "source": [
    "a1 = np.random.rand(2,3, 2)\n",
    "a2 = np.random.rand(2,3, 2)"
   ]
  },
  {
   "cell_type": "code",
   "execution_count": 38,
   "id": "ddc80037-3c91-402c-86a6-480821c596af",
   "metadata": {},
   "outputs": [
    {
     "data": {
      "text/plain": [
       "array([[[0.68817304, 0.07369566],\n",
       "        [0.96266272, 0.2462242 ],\n",
       "        [0.51435032, 0.54489644]],\n",
       "\n",
       "       [[0.95962951, 0.01287343],\n",
       "        [0.50912451, 0.8973205 ],\n",
       "        [0.36522537, 0.60906038]]])"
      ]
     },
     "execution_count": 38,
     "metadata": {},
     "output_type": "execute_result"
    }
   ],
   "source": [
    "a1"
   ]
  },
  {
   "cell_type": "code",
   "execution_count": 39,
   "id": "fec6c6dc-a710-426f-a297-57ba58a4bb62",
   "metadata": {},
   "outputs": [
    {
     "data": {
      "text/plain": [
       "array([[[0.53419855, 0.63622078],\n",
       "        [0.05624143, 0.19799576],\n",
       "        [0.73698102, 0.88752213]],\n",
       "\n",
       "       [[0.42086846, 0.28306722],\n",
       "        [0.94863432, 0.51954183],\n",
       "        [0.2632992 , 0.64022422]]])"
      ]
     },
     "execution_count": 39,
     "metadata": {},
     "output_type": "execute_result"
    }
   ],
   "source": [
    "a2"
   ]
  },
  {
   "cell_type": "markdown",
   "id": "24c04ebe-e71f-4312-b78b-07f2b47e6016",
   "metadata": {},
   "source": [
    "#### Basic Math Operations"
   ]
  },
  {
   "cell_type": "code",
   "execution_count": 40,
   "id": "3cf48913-f991-4aa6-8fe5-45e51bf7dbfc",
   "metadata": {},
   "outputs": [
    {
     "data": {
      "text/plain": [
       "array([[[1.22237159, 0.70991644],\n",
       "        [1.01890415, 0.44421997],\n",
       "        [1.25133134, 1.43241857]],\n",
       "\n",
       "       [[1.38049797, 0.29594065],\n",
       "        [1.45775882, 1.41686233],\n",
       "        [0.62852457, 1.2492846 ]]])"
      ]
     },
     "execution_count": 40,
     "metadata": {},
     "output_type": "execute_result"
    }
   ],
   "source": [
    "np.add(a1, a2)"
   ]
  },
  {
   "cell_type": "code",
   "execution_count": 41,
   "id": "56d6c9b9-1277-4dee-b1c3-09175672ef38",
   "metadata": {},
   "outputs": [
    {
     "data": {
      "text/plain": [
       "array([[[ 0.15397449, -0.56252513],\n",
       "        [ 0.90642129,  0.04822844],\n",
       "        [-0.22263071, -0.34262569]],\n",
       "\n",
       "       [[ 0.53876105, -0.27019378],\n",
       "        [-0.43950981,  0.37777867],\n",
       "        [ 0.10192617, -0.03116384]]])"
      ]
     },
     "execution_count": 41,
     "metadata": {},
     "output_type": "execute_result"
    }
   ],
   "source": [
    "np.subtract(a1, a2)"
   ]
  },
  {
   "cell_type": "code",
   "execution_count": 42,
   "id": "5cfc6f6a-7212-4491-8c2f-512954ac13d7",
   "metadata": {},
   "outputs": [
    {
     "data": {
      "text/plain": [
       "array([[[ 1.28823457,  0.11583346],\n",
       "        [17.1166118 ,  1.2435832 ],\n",
       "        [ 0.69791528,  0.61395251]],\n",
       "\n",
       "       [[ 2.28011744,  0.04547837],\n",
       "        [ 0.53669206,  1.72713813],\n",
       "        [ 1.38711158,  0.95132356]]])"
      ]
     },
     "execution_count": 42,
     "metadata": {},
     "output_type": "execute_result"
    }
   ],
   "source": [
    "np.divide(a1, a2)"
   ]
  },
  {
   "cell_type": "code",
   "execution_count": 43,
   "id": "84600462-dc3f-4f55-990c-f55fbc0e82a1",
   "metadata": {},
   "outputs": [
    {
     "data": {
      "text/plain": [
       "array([[[0.36762104, 0.04688671],\n",
       "        [0.05414153, 0.04875135],\n",
       "        [0.37906642, 0.48360765]],\n",
       "\n",
       "       [[0.4038778 , 0.00364405],\n",
       "        [0.48297298, 0.46619553],\n",
       "        [0.09616355, 0.38993521]]])"
      ]
     },
     "execution_count": 43,
     "metadata": {},
     "output_type": "execute_result"
    }
   ],
   "source": [
    "np.multiply(a1, a2)"
   ]
  },
  {
   "cell_type": "code",
   "execution_count": null,
   "id": "76e0d604-f609-4577-b418-24b53e3eb4ba",
   "metadata": {},
   "outputs": [],
   "source": []
  },
  {
   "cell_type": "markdown",
   "id": "b7700667-2545-4cba-a848-fcfbac88fdaa",
   "metadata": {},
   "source": [
    "### Statistical Operations"
   ]
  },
  {
   "cell_type": "code",
   "execution_count": 44,
   "id": "d1344c54-5631-4439-809d-b598ec08654c",
   "metadata": {},
   "outputs": [],
   "source": [
    "sqrt = np.sqrt(25)\n",
    "abs = np.abs(-2)\n",
    "power = np.power(2,8)\n",
    "log = np.log(25)\n",
    "mins = np.min(a1)\n",
    "maxs = np.max(a2)"
   ]
  },
  {
   "cell_type": "code",
   "execution_count": 45,
   "id": "b28611f3-55a4-48a6-8a50-63430ea21057",
   "metadata": {},
   "outputs": [
    {
     "data": {
      "text/plain": [
       "np.float64(5.0)"
      ]
     },
     "execution_count": 45,
     "metadata": {},
     "output_type": "execute_result"
    }
   ],
   "source": [
    "sqrt"
   ]
  },
  {
   "cell_type": "code",
   "execution_count": 46,
   "id": "412f571e-270e-4fa0-ac09-7569511b40b4",
   "metadata": {},
   "outputs": [
    {
     "data": {
      "text/plain": [
       "np.int64(2)"
      ]
     },
     "execution_count": 46,
     "metadata": {},
     "output_type": "execute_result"
    }
   ],
   "source": [
    "abs"
   ]
  },
  {
   "cell_type": "code",
   "execution_count": 47,
   "id": "371ca674-74ed-4b97-9469-ad399f162047",
   "metadata": {},
   "outputs": [
    {
     "data": {
      "text/plain": [
       "np.int64(256)"
      ]
     },
     "execution_count": 47,
     "metadata": {},
     "output_type": "execute_result"
    }
   ],
   "source": [
    "power"
   ]
  },
  {
   "cell_type": "code",
   "execution_count": 48,
   "id": "7909a930-3d06-4ed0-8c01-5f7af3d76409",
   "metadata": {},
   "outputs": [
    {
     "data": {
      "text/plain": [
       "np.float64(3.2188758248682006)"
      ]
     },
     "execution_count": 48,
     "metadata": {},
     "output_type": "execute_result"
    }
   ],
   "source": [
    "log"
   ]
  },
  {
   "cell_type": "code",
   "execution_count": 49,
   "id": "fe6cceff-c545-4aa4-a0f4-351dbf975c8a",
   "metadata": {},
   "outputs": [
    {
     "data": {
      "text/plain": [
       "np.float64(0.012873434956466423)"
      ]
     },
     "execution_count": 49,
     "metadata": {},
     "output_type": "execute_result"
    }
   ],
   "source": [
    "mins"
   ]
  },
  {
   "cell_type": "code",
   "execution_count": 50,
   "id": "303f32dc-60a3-4bbb-9329-bb60169615c5",
   "metadata": {},
   "outputs": [
    {
     "data": {
      "text/plain": [
       "np.float64(0.9486343179284192)"
      ]
     },
     "execution_count": 50,
     "metadata": {},
     "output_type": "execute_result"
    }
   ],
   "source": [
    "maxs"
   ]
  },
  {
   "cell_type": "code",
   "execution_count": null,
   "id": "20f23a02-f984-4cc3-8fdd-0bd03f461de0",
   "metadata": {},
   "outputs": [],
   "source": []
  },
  {
   "cell_type": "markdown",
   "id": "49b6b5d1-e9ea-40ff-b45b-50d1537e7bbb",
   "metadata": {},
   "source": [
    "### Update"
   ]
  },
  {
   "cell_type": "code",
   "execution_count": 51,
   "id": "1568ff81-f1f7-475c-a595-42eaa6e9713e",
   "metadata": {},
   "outputs": [
    {
     "data": {
      "text/plain": [
       "array([[[1, 2, 3],\n",
       "        [6, 5, 4]],\n",
       "\n",
       "       [[1, 2, 3],\n",
       "        [6, 5, 4]],\n",
       "\n",
       "       [[1, 2, 3],\n",
       "        [6, 5, 4]]])"
      ]
     },
     "execution_count": 51,
     "metadata": {},
     "output_type": "execute_result"
    }
   ],
   "source": [
    "arr3"
   ]
  },
  {
   "cell_type": "code",
   "execution_count": 52,
   "id": "df78b09e-cf93-4164-9b45-d25649c23dff",
   "metadata": {},
   "outputs": [
    {
     "data": {
      "text/plain": [
       "array([[[  1,   2, 500],\n",
       "        [  6,   5,   4]],\n",
       "\n",
       "       [[  1,   2,   3],\n",
       "        [  6,   5,   4]],\n",
       "\n",
       "       [[  1,   2,   3],\n",
       "        [  6,   5,   4]]])"
      ]
     },
     "execution_count": 52,
     "metadata": {},
     "output_type": "execute_result"
    }
   ],
   "source": [
    "arr3[0,0,2] = 500\n",
    "arr3"
   ]
  },
  {
   "cell_type": "code",
   "execution_count": 53,
   "id": "3d248d66-de22-4e53-acf7-b106d8fc6133",
   "metadata": {},
   "outputs": [
    {
     "data": {
      "text/plain": [
       "array([[[  1,   2, 500],\n",
       "        [  4,   5,   6]],\n",
       "\n",
       "       [[  1,   2,   3],\n",
       "        [  4,   5,   6]],\n",
       "\n",
       "       [[  1,   2,   3],\n",
       "        [  4,   5,   6]]])"
      ]
     },
     "execution_count": 53,
     "metadata": {},
     "output_type": "execute_result"
    }
   ],
   "source": [
    "arr3.sort()\n",
    "arr3"
   ]
  },
  {
   "cell_type": "code",
   "execution_count": 54,
   "id": "1e96652b-3120-48f2-935e-0d0e51f22bc5",
   "metadata": {},
   "outputs": [
    {
     "data": {
      "text/plain": [
       "(3, 2, 3)"
      ]
     },
     "execution_count": 54,
     "metadata": {},
     "output_type": "execute_result"
    }
   ],
   "source": [
    "# Reshape\n",
    "arr3.shape"
   ]
  },
  {
   "cell_type": "code",
   "execution_count": 55,
   "id": "fd9cc086-1c6b-4165-83ae-c2f16a615ca4",
   "metadata": {},
   "outputs": [
    {
     "data": {
      "text/plain": [
       "array([[[  1,   2, 500],\n",
       "        [  4,   5,   6],\n",
       "        [  1,   2,   3]],\n",
       "\n",
       "       [[  4,   5,   6],\n",
       "        [  1,   2,   3],\n",
       "        [  4,   5,   6]]])"
      ]
     },
     "execution_count": 55,
     "metadata": {},
     "output_type": "execute_result"
    }
   ],
   "source": [
    "arr3_reshape = arr3.reshape((2, 3, -1))\n",
    "arr3_reshape"
   ]
  },
  {
   "cell_type": "code",
   "execution_count": 56,
   "id": "222a1067-52ef-4283-b6c5-7bacc9a38a16",
   "metadata": {},
   "outputs": [
    {
     "data": {
      "text/plain": [
       "(2, 3, 3)"
      ]
     },
     "execution_count": 56,
     "metadata": {},
     "output_type": "execute_result"
    }
   ],
   "source": [
    "arr3_reshape.shape"
   ]
  },
  {
   "cell_type": "code",
   "execution_count": null,
   "id": "ba484c09-308e-4998-ad25-410e748fb025",
   "metadata": {},
   "outputs": [],
   "source": []
  },
  {
   "cell_type": "markdown",
   "id": "0bb554b1-3b1c-4f6c-b7b3-2a8431431581",
   "metadata": {},
   "source": [
    "### Appending & Inserting"
   ]
  },
  {
   "cell_type": "code",
   "execution_count": 57,
   "id": "7118aca6-4996-4307-bdc2-7e2581d8394e",
   "metadata": {},
   "outputs": [
    {
     "data": {
      "text/plain": [
       "array([[[0., 0., 0.],\n",
       "        [0., 0., 0.]],\n",
       "\n",
       "       [[0., 0., 0.],\n",
       "        [0., 0., 0.]],\n",
       "\n",
       "       [[0., 0., 0.],\n",
       "        [0., 0., 0.]]])"
      ]
     },
     "execution_count": 57,
     "metadata": {},
     "output_type": "execute_result"
    }
   ],
   "source": [
    "zeroes"
   ]
  },
  {
   "cell_type": "code",
   "execution_count": 58,
   "id": "18123e2e-2fcb-453a-bbf9-d7c183362f53",
   "metadata": {},
   "outputs": [
    {
     "data": {
      "text/plain": [
       "array([[[1., 1., 1.],\n",
       "        [1., 1., 1.]],\n",
       "\n",
       "       [[1., 1., 1.],\n",
       "        [1., 1., 1.]],\n",
       "\n",
       "       [[1., 1., 1.],\n",
       "        [1., 1., 1.]]])"
      ]
     },
     "execution_count": 58,
     "metadata": {},
     "output_type": "execute_result"
    }
   ],
   "source": [
    "#Create a new array\n",
    "new_array = np.ones((3,2,3))\n",
    "new_array"
   ]
  },
  {
   "cell_type": "code",
   "execution_count": 59,
   "id": "16613187-a7b9-476f-bd1c-ce02cbed22ad",
   "metadata": {},
   "outputs": [
    {
     "data": {
      "text/plain": [
       "array([[[0., 0., 0.],\n",
       "        [0., 0., 0.]],\n",
       "\n",
       "       [[0., 0., 0.],\n",
       "        [0., 0., 0.]],\n",
       "\n",
       "       [[0., 0., 0.],\n",
       "        [0., 0., 0.]],\n",
       "\n",
       "       [[1., 1., 1.],\n",
       "        [1., 1., 1.]],\n",
       "\n",
       "       [[1., 1., 1.],\n",
       "        [1., 1., 1.]],\n",
       "\n",
       "       [[1., 1., 1.],\n",
       "        [1., 1., 1.]]])"
      ]
     },
     "execution_count": 59,
     "metadata": {},
     "output_type": "execute_result"
    }
   ],
   "source": [
    "appd = np.append(zeroes, new_array, axis=0) # axis = 0 row, axis = 1 col\n",
    "appd"
   ]
  },
  {
   "cell_type": "code",
   "execution_count": null,
   "id": "df265852-de21-42de-9db1-6cff049e46da",
   "metadata": {},
   "outputs": [],
   "source": []
  },
  {
   "cell_type": "code",
   "execution_count": 60,
   "id": "0e5fb94e-a97f-45aa-9386-02344dcc8faf",
   "metadata": {},
   "outputs": [],
   "source": [
    "# Insert"
   ]
  },
  {
   "cell_type": "code",
   "execution_count": 61,
   "id": "a5440d3a-2f2e-4e5f-af67-3db769b105a6",
   "metadata": {},
   "outputs": [
    {
     "data": {
      "text/plain": [
       "array([[[0., 0., 0.],\n",
       "        [0., 0., 0.]],\n",
       "\n",
       "       [[0., 0., 0.],\n",
       "        [0., 0., 0.]],\n",
       "\n",
       "       [[0., 0., 0.],\n",
       "        [0., 0., 0.]]])"
      ]
     },
     "execution_count": 61,
     "metadata": {},
     "output_type": "execute_result"
    }
   ],
   "source": [
    "zeroes"
   ]
  },
  {
   "cell_type": "code",
   "execution_count": 62,
   "id": "bde69f14-8627-4621-ac75-dab06f428041",
   "metadata": {},
   "outputs": [
    {
     "data": {
      "text/plain": [
       "array([[[1., 1., 1.],\n",
       "        [1., 1., 1.]],\n",
       "\n",
       "       [[1., 1., 1.],\n",
       "        [1., 1., 1.]],\n",
       "\n",
       "       [[1., 1., 1.],\n",
       "        [1., 1., 1.]]])"
      ]
     },
     "execution_count": 62,
     "metadata": {},
     "output_type": "execute_result"
    }
   ],
   "source": [
    "new_array"
   ]
  },
  {
   "cell_type": "code",
   "execution_count": 63,
   "id": "20b1d602-feb8-4563-9f21-eb4e45fe109a",
   "metadata": {},
   "outputs": [
    {
     "data": {
      "text/plain": [
       "array([[[0., 0., 0.],\n",
       "        [0., 0., 0.]],\n",
       "\n",
       "       [[1., 1., 1.],\n",
       "        [1., 1., 1.]],\n",
       "\n",
       "       [[1., 1., 1.],\n",
       "        [1., 1., 1.]],\n",
       "\n",
       "       [[1., 1., 1.],\n",
       "        [1., 1., 1.]],\n",
       "\n",
       "       [[0., 0., 0.],\n",
       "        [0., 0., 0.]],\n",
       "\n",
       "       [[0., 0., 0.],\n",
       "        [0., 0., 0.]]])"
      ]
     },
     "execution_count": 63,
     "metadata": {},
     "output_type": "execute_result"
    }
   ],
   "source": [
    "inserted_array = np.insert(zeroes, 1, new_array, axis=0)\n",
    "inserted_array"
   ]
  },
  {
   "cell_type": "code",
   "execution_count": null,
   "id": "8aad2508-f5be-408d-9146-88313cb70fc2",
   "metadata": {},
   "outputs": [],
   "source": []
  },
  {
   "cell_type": "markdown",
   "id": "f67868e0-20d9-429a-91c5-48a0191d9ee9",
   "metadata": {},
   "source": [
    "### Delete"
   ]
  },
  {
   "cell_type": "code",
   "execution_count": 64,
   "id": "f3a436c8-f69e-4214-8553-ed50517512dc",
   "metadata": {},
   "outputs": [
    {
     "data": {
      "text/plain": [
       "array([[[0.86947985, 0.89961676, 0.64706874],\n",
       "        [0.80195157, 0.31982946, 0.34761712]],\n",
       "\n",
       "       [[0.88008998, 0.59063962, 0.05397871],\n",
       "        [0.44957929, 0.37159594, 0.34647549]],\n",
       "\n",
       "       [[0.22505686, 0.382578  , 0.26781985],\n",
       "        [0.17276524, 0.14687751, 0.55600902]]])"
      ]
     },
     "execution_count": 64,
     "metadata": {},
     "output_type": "execute_result"
    }
   ],
   "source": [
    "arr4 = np.random.rand(3,2,3)\n",
    "arr4"
   ]
  },
  {
   "cell_type": "code",
   "execution_count": 65,
   "id": "9784c7b6-44b3-4f11-a20f-91c36f3ea8c7",
   "metadata": {},
   "outputs": [],
   "source": [
    "# delete the array\n",
    "arr5 = np.delete(arr4, 0, axis=1)"
   ]
  },
  {
   "cell_type": "code",
   "execution_count": 66,
   "id": "c905bb29-8fd8-44e2-8479-cf6e7a2506d0",
   "metadata": {},
   "outputs": [
    {
     "data": {
      "text/plain": [
       "array([[[0.80195157, 0.31982946, 0.34761712]],\n",
       "\n",
       "       [[0.44957929, 0.37159594, 0.34647549]],\n",
       "\n",
       "       [[0.17276524, 0.14687751, 0.55600902]]])"
      ]
     },
     "execution_count": 66,
     "metadata": {},
     "output_type": "execute_result"
    }
   ],
   "source": [
    "arr5"
   ]
  },
  {
   "cell_type": "code",
   "execution_count": 67,
   "id": "1d965dac-1fc0-4859-b6d7-651b3798f1d6",
   "metadata": {},
   "outputs": [],
   "source": [
    "np.save(\"new_array\", arr5)"
   ]
  },
  {
   "cell_type": "code",
   "execution_count": 68,
   "id": "00629188-5c6c-4de3-9a3f-ed803146b3ad",
   "metadata": {},
   "outputs": [
    {
     "data": {
      "text/plain": [
       "array([[[0.80195157, 0.31982946, 0.34761712]],\n",
       "\n",
       "       [[0.44957929, 0.37159594, 0.34647549]],\n",
       "\n",
       "       [[0.17276524, 0.14687751, 0.55600902]]])"
      ]
     },
     "execution_count": 68,
     "metadata": {},
     "output_type": "execute_result"
    }
   ],
   "source": [
    "np.load(\"new_array.npy\")"
   ]
  },
  {
   "cell_type": "code",
   "execution_count": null,
   "id": "10418e87-01a6-49c0-a9f2-03602c7bb63b",
   "metadata": {},
   "outputs": [],
   "source": []
  }
 ],
 "metadata": {
  "kernelspec": {
   "display_name": "Python 3 (ipykernel)",
   "language": "python",
   "name": "python3"
  },
  "language_info": {
   "codemirror_mode": {
    "name": "ipython",
    "version": 3
   },
   "file_extension": ".py",
   "mimetype": "text/x-python",
   "name": "python",
   "nbconvert_exporter": "python",
   "pygments_lexer": "ipython3",
   "version": "3.13.5"
  }
 },
 "nbformat": 4,
 "nbformat_minor": 5
}
